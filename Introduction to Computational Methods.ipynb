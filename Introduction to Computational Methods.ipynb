{
 "cells": [
  {
   "cell_type": "code",
   "execution_count": 1,
   "metadata": {},
   "outputs": [
    {
     "data": {
      "image/png": "[encoded data removed]",
      "text/plain": [
       "<Figure size 432x288 with 1 Axes>"
      ]
     },
     "metadata": {
      "needs_background": "light"
     },
     "output_type": "display_data"
    }
   ],
   "source": [
    "import matplotlib.pyplot as plt\n",
    "%matplotlib inline\n",
    "import time\n",
    "import math\n",
    "\n",
    "# v(ti+1) = v(ti)+[g-c/m v(ti)](ti+1 -ti)\n",
    "\n",
    "\n",
    "\n",
    "def Vt(dt, time):\n",
    "  v0 = 0.; m = 68.1 # Kg\n",
    "  c = 12.5; g = 9.8\n",
    "  T = []; VT = []\n",
    "  VT_an =[]; t=0.\n",
    "  n = int(time/dt)\n",
    "  for i in range(n):\n",
    "    t = t + dt\n",
    "    vt_dt = v0 + (g-(c/m)*v0)*dt\n",
    "    T.append(t)\n",
    "    VT.append(vt_dt) \n",
    "    v_an = g*m/c * (1-math.exp(-c*t/m))\n",
    "    VT_an.append(v_an)   \n",
    "    v0 = vt_dt\n",
    "  return T, VT, VT_an\n",
    "\n",
    "T, VT, VT_an = Vt(0.3,30) \n",
    "plt.plot(T, VT, label='Approx.')\n",
    "plt.plot(T, VT_an, label='Exact')\n",
    "plt.xlabel(\"Time\")\n",
    "plt.ylabel(\"Velocity\")\n",
    "plt.legend()\n",
    "plt.show()\n",
    "\n"
   ]
  },
  {
   "cell_type": "code",
   "execution_count": 2,
   "metadata": {},
   "outputs": [
    {
     "data": {
      "text/plain": [
       "(0.6666666666666666, -1.0)"
      ]
     },
     "execution_count": 2,
     "metadata": {},
     "output_type": "execute_result"
    }
   ],
   "source": [
    "from math import sqrt\n",
    "def roots(a,b,c):\n",
    "    d = b**2-4*a*c\n",
    "    if d>0:\n",
    "        x1 = (-b+sqrt(d))/(2*a)\n",
    "        x2 = (-b-sqrt(d))/(2*a)\n",
    "    elif d==0:\n",
    "        x1 = x2 = -b/(2*a)\n",
    "    else:\n",
    "        x1 = (-b+sqrt(-d))/(2*a)\n",
    "        x2 = (-b-sqrt(-d))/(2*a)\n",
    "    return x1, x2\n",
    "#Let's try to solve this: 3x^2 + x-2=0\n",
    "roots(3,1,-2)\n"
   ]
  },
  {
   "cell_type": "code",
   "execution_count": null,
   "metadata": {},
   "outputs": [],
   "source": []
  }
 ],
 "metadata": {
  "kernelspec": {
   "display_name": "Python 3",
   "language": "python",
   "name": "python3"
  },
  "language_info": {
   "codemirror_mode": {
    "name": "ipython",
    "version": 3
   },
   "file_extension": ".py",
   "mimetype": "text/x-python",
   "name": "python",
   "nbconvert_exporter": "python",
   "pygments_lexer": "ipython3",
   "version": "3.7.3"
  }
 },
 "nbformat": 4,
 "nbformat_minor": 4
}
